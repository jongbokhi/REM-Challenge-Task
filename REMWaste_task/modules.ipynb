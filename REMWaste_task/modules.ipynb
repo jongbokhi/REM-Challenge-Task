{
 "cells": [
  {
   "cell_type": "code",
   "execution_count": 1,
   "metadata": {},
   "outputs": [],
   "source": [
    "from audio_to_text import extract_audio_and_convert_to_text\n",
    "\n",
    "from state import GraphState\n",
    "\n",
    "from vectordb import build_vectordb\n",
    "from retrieval_chain import create_retrieval_chain\n",
    "from nodes import *\n",
    "\n",
    "from langgraph.graph import END, StateGraph, START\n",
    "from langgraph.checkpoint.memory import MemorySaver\n",
    "\n",
    "\n",
    "from langchain_core.runnables import RunnableConfig\n",
    "from langchain_teddynote.messages import stream_graph, random_uuid\n",
    "from langchain_teddynote.graphs import visualize_graph"
   ]
  },
  {
   "cell_type": "code",
   "execution_count": 2,
   "metadata": {},
   "outputs": [
    {
     "data": {
      "text/plain": [
       "True"
      ]
     },
     "execution_count": 2,
     "metadata": {},
     "output_type": "execute_result"
    }
   ],
   "source": [
    "from dotenv import load_dotenv\n",
    "\n",
    "load_dotenv()"
   ]
  },
  {
   "cell_type": "code",
   "execution_count": 3,
   "metadata": {},
   "outputs": [],
   "source": [
    "youtube_url = \"https://www.youtube.com/shorts/qvswiQSH8Zk\"\n",
    "save_path = \"./youtube_audios/\""
   ]
  },
  {
   "cell_type": "markdown",
   "metadata": {},
   "source": [
    "### Import Modules"
   ]
  },
  {
   "cell_type": "code",
   "execution_count": 4,
   "metadata": {},
   "outputs": [
    {
     "name": "stdout",
     "output_type": "stream",
     "text": [
      "[youtube] Extracting URL: https://www.youtube.com/shorts/qvswiQSH8Zk\n",
      "[youtube] qvswiQSH8Zk: Downloading webpage\n",
      "[youtube] qvswiQSH8Zk: Downloading tv client config\n",
      "[youtube] qvswiQSH8Zk: Downloading tv player API JSON\n",
      "[youtube] qvswiQSH8Zk: Downloading ios player API JSON\n",
      "[youtube] qvswiQSH8Zk: Downloading m3u8 information\n",
      "[info] qvswiQSH8Zk: Downloading 1 format(s): 140\n",
      "[download] youtube_audios\\ZIGZAG meaning ⚡️and CROCODILES 🐊 #learnenglish #vocabulary.m4a has already been downloaded\n",
      "[download] 100% of  875.09KiB\n",
      "[ExtractAudio] Not converting audio youtube_audios\\ZIGZAG meaning ⚡️and CROCODILES 🐊 #learnenglish #vocabulary.m4a; file is already in target format m4a\n",
      "Transcribing part 1!\n",
      "Transcribing part 2!\n",
      "Transcribing part 3!\n",
      "Transcribing part 4!\n",
      "Transcribing part 5!\n",
      "Transcribing part 6!\n",
      "Transcribing part 1!\n"
     ]
    }
   ],
   "source": [
    "text = extract_audio_and_convert_to_text(youtube_url, save_path)"
   ]
  },
  {
   "cell_type": "code",
   "execution_count": 5,
   "metadata": {},
   "outputs": [],
   "source": [
    "cached_dir = \"./embeddingcache/\"\n",
    "db_index = \"english_DB_INDEX\"\n",
    "model_name = \"text-embedding-3-small\"\n",
    "\n",
    "# Build Vector DB\n",
    "db = build_vectordb(text, cached_dir, db_index, model_name)\n",
    "\n",
    "# initialize retriever\n",
    "retriever = db.as_retriever(search_kwargs={\"k\": 30})\n",
    "\n",
    "# initialize retrieval chain\n",
    "rag_chain = create_retrieval_chain()"
   ]
  },
  {
   "cell_type": "markdown",
   "metadata": {},
   "source": [
    "### Build Workflow"
   ]
  },
  {
   "cell_type": "code",
   "execution_count": 6,
   "metadata": {},
   "outputs": [],
   "source": [
    "# Initialize GraphState\n",
    "workflow = StateGraph(GraphState)\n",
    "\n",
    "# Define nodes  # Check Language\n",
    "workflow.add_node(\"AccentClassifierNode\", AccentClassifierNode())  # Classify Accent\n",
    "workflow.add_node(\"AccentGraderNode\", AccentGraderNode())  # Grade Accent\n",
    "workflow.add_node(\"RetrievalNode\", RetrievalNode(retriever))  # Retrieve Documents\n",
    "workflow.add_node(\"RetrievalAnswerNode\", RetrievalAnswerNode(rag_chain))  # Final Answer\n",
    "\n",
    "# Add Edges\n",
    "workflow.add_edge(START, \"RetrievalNode\")\n",
    "\n",
    "workflow.add_conditional_edges(\n",
    "    \"RetrievalNode\",\n",
    "    LanguageCheckerNode(),\n",
    "    {\n",
    "        \"english\": \"AccentClassifierNode\",\n",
    "        \"non-English\": END,\n",
    "    },\n",
    ")\n",
    "workflow.add_edge(\"AccentClassifierNode\", \"AccentGraderNode\")\n",
    "workflow.add_edge(\"AccentGraderNode\", \"RetrievalAnswerNode\")\n",
    "\n",
    "\n",
    "# Compile workflow\n",
    "app = workflow.compile(checkpointer=MemorySaver())"
   ]
  },
  {
   "cell_type": "code",
   "execution_count": 7,
   "metadata": {},
   "outputs": [
    {
     "data": {
      "image/png": "[encoded data removed]",
      "text/plain": [
       "<IPython.core.display.Image object>"
      ]
     },
     "metadata": {},
     "output_type": "display_data"
    }
   ],
   "source": [
    "# Visualize Workflow\n",
    "visualize_graph(app)"
   ]
  },
  {
   "cell_type": "code",
   "execution_count": 8,
   "metadata": {},
   "outputs": [
    {
     "name": "stdout",
     "output_type": "stream",
     "text": [
      "\n",
      "==================================================\n",
      "🔄 Node: \u001b[1;36mRetrievalNode\u001b[0m 🔄\n",
      "- - - - - - - - - - - - - - - - - - - - - - - - - \n",
      "{\"binary_score\":\"yes\"}\n",
      "==================================================\n",
      "🔄 Node: \u001b[1;36mAccentClassifierNode\u001b[0m 🔄\n",
      "- - - - - - - - - - - - - - - - - - - - - - - - - \n",
      "{\"accent_label\":\"British\"}\n",
      "==================================================\n",
      "🔄 Node: \u001b[1;36mAccentGraderNode\u001b[0m 🔄\n",
      "- - - - - - - - - - - - - - - - - - - - - - - - - \n",
      "{\"accent_score\":95.0}\n",
      "==================================================\n",
      "🔄 Node: \u001b[1;36mRetrievalAnswerNode\u001b[0m 🔄\n",
      "- - - - - - - - - - - - - - - - - - - - - - - - - \n",
      "- Classification of the accent: British  \n",
      "- English accent confidence level: 95.0  \n",
      "- Summary: The speaker demonstrates a clear British accent with good pronunciation and fluency. Their English is sufficient for professional work."
     ]
    }
   ],
   "source": [
    "# Set config\n",
    "config = RunnableConfig(recursion_limit=20, configurable={\"thread_id\": random_uuid()})\n",
    "\n",
    "# Set Query\n",
    "inputs = {\n",
    "    \"question\": \"Please check english aceent\",\n",
    "}\n",
    "\n",
    "# execute workflow\n",
    "stream_graph(\n",
    "    app,\n",
    "    inputs,\n",
    "    config,\n",
    ")"
   ]
  }
 ],
 "metadata": {
  "kernelspec": {
   "display_name": "langchain-kr--dxXtQzN-py3.11",
   "language": "python",
   "name": "python3"
  },
  "language_info": {
   "codemirror_mode": {
    "name": "ipython",
    "version": 3
   },
   "file_extension": ".py",
   "mimetype": "text/x-python",
   "name": "python",
   "nbconvert_exporter": "python",
   "pygments_lexer": "ipython3",
   "version": "3.11.9"
  }
 },
 "nbformat": 4,
 "nbformat_minor": 2
}
